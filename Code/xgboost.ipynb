{
  "cells": [
    {
      "cell_type": "markdown",
      "metadata": {
        "id": "me06zYxyo593"
      },
      "source": [
        "# Study showing XGB use for fraud detection\n",
        "\n",
        "Using XGB models to classify fraudulent transactions in a well-known case study regarding a Tunisian energy company which suffered major financial losses caused by electricity fraud.\n",
        "\n",
        "Oprea, S.-V., & Bâra, A. (2021). Machine learning classification algorithms and anomaly detection in conventional meters and Tunisian electricity consumption large datasets. Computers &amp; Electrical Engineering, 94, 107329. https://doi.org/10.1016/j.compeleceng.2021.107329\n",
        "\n",
        "It is important to note that for effective learning, enough data from both classes, fraudulent and non-fraudulent should be provided, even though XGB is better (comparatively) at handling imbalanced data. However, for energy consumption cases such as these, actual fraud cases are typically rare compared to normal cases, leading to severe class imbalance. The imbalance will cause more challenges in learning in the absence of data treatment techniques. As such, over-sampling the minority (fraudulent) class was done to address the imbalance.\n",
        "\n",
        "___"
      ]
    },
    {
      "cell_type": "code",
      "execution_count": 1,
      "metadata": {
        "id": "hVYjDsk9TTYw"
      },
      "outputs": [],
      "source": [
        "# Importing libraries\n",
        "import numpy as np\n",
        "import pandas as pd\n",
        "from sklearn.model_selection import train_test_split\n",
        "from sklearn.utils import class_weight, resample\n",
        "from sklearn.metrics import classification_report, roc_auc_score, precision_recall_curve, precision_score, log_loss, recall_score, roc_curve, matthews_corrcoef, confusion_matrix, ConfusionMatrixDisplay\n",
        "from xgboost import XGBClassifier\n",
        "from sklearn.model_selection import RandomizedSearchCV, StratifiedKFold\n",
        "from imblearn.over_sampling import ADASYN\n",
        "import joblib"
      ]
    },
    {
      "cell_type": "code",
      "execution_count": 2,
      "metadata": {
        "colab": {
          "base_uri": "https://localhost:8080/"
        },
        "id": "ewxHkzdaA6Sb",
        "outputId": "ca73b296-d3b8-457d-a082-7658b756abaf"
      },
      "outputs": [
        {
          "data": {
            "text/plain": [
              "Index(['region', 'date', 'dis', 'id', 'catg', 'target', 'id_',\n",
              "       'consommation_level_1_mean', 'consommation_level_1_max',\n",
              "       'consommation_level_1_std',\n",
              "       ...\n",
              "       'consommation_level_4_2010.0', 'consommation_level_4_2011.0',\n",
              "       'consommation_level_4_2012.0', 'consommation_level_4_2013.0',\n",
              "       'consommation_level_4_2014.0', 'consommation_level_4_2015.0',\n",
              "       'consommation_level_4_2016.0', 'consommation_level_4_2017.0',\n",
              "       'consommation_level_4_2018.0', 'consommation_level_4_2019.0'],\n",
              "      dtype='object', length=195)"
            ]
          },
          "execution_count": 2,
          "metadata": {},
          "output_type": "execute_result"
        }
      ],
      "source": [
        "# Loading aggregated dataset\n",
        "aggregated_invoice = pd.read_csv(\"aggregated_datasetV3.csv\")\n",
        "aggregated_invoice.columns"
      ]
    },
    {
      "cell_type": "markdown",
      "metadata": {
        "id": "ArRH8iTgdNkA"
      },
      "source": [
        "# Preparing data for XGBoost (Extreme Gradient Boosting)\n",
        "\n",
        "The dataset has to be split and the imbalanced data has to be handled as the number of fraud cases are underrepresented."
      ]
    },
    {
      "cell_type": "markdown",
      "metadata": {
        "id": "NQeUL_AZtZ5j"
      },
      "source": [
        "# Splitting the dataset\n",
        "Using `sklearn`, the data is split into 80% training and 20% testing."
      ]
    },
    {
      "cell_type": "code",
      "execution_count": 3,
      "metadata": {
        "colab": {
          "base_uri": "https://localhost:8080/"
        },
        "id": "ORbkFqW6tZdd",
        "outputId": "e369af3e-c51a-4396-c754-74be5b31b7ef"
      },
      "outputs": [
        {
          "name": "stdout",
          "output_type": "stream",
          "text": [
            "target\n",
            "0    0.956133\n",
            "1    0.043867\n",
            "Name: proportion, dtype: float64\n",
            "target\n",
            "0    0.956152\n",
            "1    0.043848\n",
            "Name: proportion, dtype: float64\n"
          ]
        }
      ],
      "source": [
        "# Separating features & target\n",
        "X = aggregated_invoice.drop(columns = [\"target\", \"date\", \"id\"])\n",
        "y = aggregated_invoice[\"target\"]\n",
        "\n",
        "# Splitting data\n",
        "X_train, X_test, y_train, y_test = train_test_split(X, y, test_size = 0.2, random_state = 42, stratify = y)\n",
        "\n",
        "# Check distribution of target\n",
        "print(y_train.value_counts(normalize = True)) # Training set\n",
        "print(y_test.value_counts(normalize = True)) # Testing set"
      ]
    },
    {
      "cell_type": "markdown",
      "metadata": {
        "id": "OPkQji70Tjaj"
      },
      "source": [
        "# Balancing data\n",
        "\n",
        "Since the dataset is highly imbalanced (as seen by the proportions above), where only a small fraction of it constitutes data for fraud, ADASYN and SMOTE can be used to balance the disparity.\n",
        "\n",
        "With fraud data constituting a mere ~5% of the entire dataset, ADASYN was chosen to increase the number of fraud datapoints, allowing the model to learn more effectively."
      ]
    },
    {
      "cell_type": "code",
      "execution_count": 4,
      "metadata": {
        "colab": {
          "base_uri": "https://localhost:8080/"
        },
        "id": "0r8H2nCuTpNT",
        "outputId": "fa7ef757-2884-4d9e-af58-510c60162ad7"
      },
      "outputs": [
        {
          "name": "stdout",
          "output_type": "stream",
          "text": [
            "target\n",
            "0    8980\n",
            "1    8910\n",
            "Name: count, dtype: int64\n"
          ]
        }
      ],
      "source": [
        "# Generating synthetic data using ADASYN for the minority class\n",
        "ada = ADASYN(random_state = 42)\n",
        "X_resampled_ada, y_resampled_ada = ada.fit_resample(X_train, y_train)\n",
        "\n",
        "# Checking new class distribution\n",
        "print(pd.Series(y_resampled_ada).value_counts())"
      ]
    },
    {
      "cell_type": "markdown",
      "metadata": {
        "id": "RtKMhKSvfQwz"
      },
      "source": [
        "# XGBoost model without hyperparameter tuning\n",
        "\n",
        "Now that the data has been processed, it will be run through the XGBoost model. Below outlines the model architecture, without hyperparameter tuning."
      ]
    },
    {
      "cell_type": "code",
      "execution_count": null,
      "metadata": {
        "colab": {
          "base_uri": "https://localhost:8080/"
        },
        "id": "P6tFRkh_fb4r",
        "outputId": "62193e2a-5007-4058-c161-31550d54c8a2"
      },
      "outputs": [
        {
          "name": "stderr",
          "output_type": "stream",
          "text": [
            "/usr/local/lib/python3.11/dist-packages/xgboost/core.py:158: UserWarning: [05:19:58] WARNING: /workspace/src/learner.cc:740: \n",
            "Parameters: { \"use_label_encoder\" } are not used.\n",
            "\n",
            "  warnings.warn(smsg, UserWarning)\n"
          ]
        },
        {
          "name": "stdout",
          "output_type": "stream",
          "text": [
            "              precision    recall  f1-score   support\n",
            "\n",
            "           0       0.96      0.94      0.95      2246\n",
            "           1       0.16      0.22      0.18       103\n",
            "\n",
            "    accuracy                           0.91      2349\n",
            "   macro avg       0.56      0.58      0.57      2349\n",
            "weighted avg       0.93      0.91      0.92      2349\n",
            "\n",
            "0.14127881155557334\n"
          ]
        }
      ],
      "source": [
        "# Defining the model\n",
        "xgb_model = XGBClassifier(\n",
        "    use_label_encoder = False,\n",
        "    eval_metric = \"aucpr\",\n",
        "    scale_pos_weight = 14, # ratio of non-fraud to fraud as base\n",
        "    objective = \"binary:logistic\",\n",
        "    tree_method = \"hist\", # optimized for spd\n",
        "    booster = \"gbtree\"\n",
        ")\n",
        "\n",
        "# Fitting the model\n",
        "xgb_model.fit(X_resampled_ada, y_resampled_ada)\n",
        "\n",
        "# Obtaining results\n",
        "result = xgb_model.predict(X_test)\n",
        "\n",
        "# Model evaluation\n",
        "print(classification_report(y_test, result))\n",
        "print(matthews_corrcoef(y_test, result))"
      ]
    },
    {
      "cell_type": "markdown",
      "metadata": {
        "id": "hbUYR5ijebXH"
      },
      "source": [
        "# XGBoost model with hyperparameter tuning\n",
        "\n",
        "Below outlines the model architecture, with hyperparameter tuning. (**~1.5hr runtime**)"
      ]
    },
    {
      "cell_type": "code",
      "execution_count": null,
      "metadata": {
        "colab": {
          "base_uri": "https://localhost:8080/"
        },
        "id": "HorMMDz8e7h2",
        "outputId": "33ec90ac-88d1-4b22-9896-90d6b9b9de8e"
      },
      "outputs": [
        {
          "name": "stdout",
          "output_type": "stream",
          "text": [
            "Fitting 5 folds for each of 30 candidates, totalling 150 fits\n"
          ]
        },
        {
          "name": "stderr",
          "output_type": "stream",
          "text": [
            "/usr/local/lib/python3.11/dist-packages/xgboost/core.py:158: UserWarning: [06:22:40] WARNING: /workspace/src/learner.cc:740: \n",
            "Parameters: { \"use_label_encoder\" } are not used.\n",
            "\n",
            "  warnings.warn(smsg, UserWarning)\n"
          ]
        },
        {
          "name": "stdout",
          "output_type": "stream",
          "text": [
            "Best parameters: {'subsample': 0.7, 'reg_lambda': 50, 'reg_alpha': 5, 'n_estimators': 1500, 'min_child_weight': 10, 'max_depth': 6, 'learning_rate': 0.01, 'gamma': 3.0, 'colsample_bytree': 0.6}\n"
          ]
        }
      ],
      "source": [
        "# Defining the model\n",
        "xgb_model = XGBClassifier(\n",
        "    use_label_encoder = False,\n",
        "    eval_metric = \"aucpr\",\n",
        "    scale_pos_weight = 14, # ratio of non-fraud to fraud as base\n",
        "    objective = \"binary:logistic\",\n",
        "    tree_method = \"hist\", # optimized for spd\n",
        "    booster = \"gbtree\"\n",
        ")\n",
        "\n",
        "# Defining the hyperparameter grid\n",
        "param_grid = {\n",
        "    \"n_estimators\": [1000, 1500, 2000],\n",
        "    \"learning_rate\": [0.0005, 0.001, 0.01],\n",
        "    \"max_depth\": [5, 6, 7],\n",
        "    \"min_child_weight\": [3, 5, 10],\n",
        "    \"gamma\": [1.0, 2.0, 3.0],\n",
        "    \"subsample\": [0.5, 0.7, 0.9],\n",
        "    \"colsample_bytree\": [0.6, 0.8, 1.0],\n",
        "    \"reg_lambda\": [50, 100, 200],\n",
        "    \"reg_alpha\": [5, 10, 20]\n",
        "}\n",
        "\n",
        "# Perform randomised search with stratified 5-fold\n",
        "cv = StratifiedKFold(n_splits = 5, shuffle = True, random_state = 42)\n",
        "random_search = RandomizedSearchCV(xgb_model, param_distributions = param_grid, n_iter = 30, scoring = \"roc_auc\", cv = cv, random_state = 42, verbose = 1, n_jobs = -1)\n",
        "random_search.fit(X_resampled_ada, y_resampled_ada)\n",
        "\n",
        "# Output best params\n",
        "print(\"Best parameters:\", random_search.best_params_)"
      ]
    },
    {
      "cell_type": "markdown",
      "metadata": {
        "id": "yPPNe-cWBvAr"
      },
      "source": [
        "# Evaluation on Test Split\n",
        "\n",
        "Evaluation of the model is done based on the following metrics:\n",
        "1. Accuracy\n",
        "2. Precision\n",
        "3. Recall\n",
        "4. Loss\n",
        "5. Area under curve (AUC)\n",
        "6. Matthew's Correlation Coefficient (MCC)\n",
        "7. Confusion Matrix"
      ]
    },
    {
      "cell_type": "code",
      "execution_count": null,
      "metadata": {
        "colab": {
          "base_uri": "https://localhost:8080/",
          "height": 824
        },
        "id": "RRv-itcQBua1",
        "outputId": "63865567-b4d2-4e2a-b34c-507e300cdad9"
      },
      "outputs": [
        {
          "name": "stderr",
          "output_type": "stream",
          "text": [
            "/usr/local/lib/python3.11/dist-packages/xgboost/core.py:158: UserWarning: [08:59:02] WARNING: /workspace/src/learner.cc:740: \n",
            "Parameters: { \"use_label_encoder\" } are not used.\n",
            "\n",
            "  warnings.warn(smsg, UserWarning)\n"
          ]
        },
        {
          "name": "stdout",
          "output_type": "stream",
          "text": [
            "Test Accuracy: 0.7790549169859514\n",
            "Test Precision: 0.09533073929961089\n",
            "Test Recall: 0.47572815533980584\n",
            "Test Loss: 7.96366799018808\n",
            "Test AUC 0.6343467134668753\n",
            "              precision    recall  f1-score   support\n",
            "\n",
            "           0       0.97      0.79      0.87      2246\n",
            "           1       0.10      0.48      0.16       103\n",
            "\n",
            "    accuracy                           0.78      2349\n",
            "   macro avg       0.53      0.63      0.52      2349\n",
            "weighted avg       0.93      0.78      0.84      2349\n",
            "\n",
            "Matthews Correlation Coefficient: 0.13307023900545745\n",
            "\n"
          ]
        },
        {
          "data": {
            "text/plain": [
              "<sklearn.metrics._plot.confusion_matrix.ConfusionMatrixDisplay at 0x79999aeec3d0>"
            ]
          },
          "execution_count": 9,
          "metadata": {},
          "output_type": "execute_result"
        },
        {
          "data": {
            "image/png": "[encoded data removed]",
            "text/plain": [
              "<Figure size 640x480 with 2 Axes>"
            ]
          },
          "metadata": {},
          "output_type": "display_data"
        }
      ],
      "source": [
        "# Best model\n",
        "best_xgb = XGBClassifier(\n",
        "    use_label_encoder = False,\n",
        "    eval_metric = \"aucpr\",\n",
        "    scale_pos_weight = 10,\n",
        "    objective = \"binary:logistic\",\n",
        "    tree_method = \"hist\",\n",
        "    booster = \"gbtree\",\n",
        "    # **random_search.best_params_ (best params located below)\n",
        "\n",
        "    subsample = 0.7,\n",
        "    reg_lambda = 50,\n",
        "    reg_alpha = 5,\n",
        "    n_estimators = 1500,\n",
        "    min_child_weight = 10,\n",
        "    max_depth = 6,\n",
        "    learning_rate = 0.01,\n",
        "    gamma = 3.0,\n",
        "    colsample_bytree = 0.6\n",
        "    )\n",
        "\n",
        "# Fitting the model\n",
        "best_xgb.fit(X_resampled_ada, y_resampled_ada)\n",
        "\n",
        "# Testing best model\n",
        "y_hat_test = best_xgb.predict(X_test)\n",
        "\n",
        "# Calculating metrics\n",
        "accuracy = best_xgb.score(X_test, y_test)\n",
        "precision = precision_score(y_test, y_hat_test)\n",
        "recall = recall_score(y_test, y_hat_test)\n",
        "loss = log_loss(y_test, y_hat_test)\n",
        "auc = roc_auc_score(y_test, y_hat_test)\n",
        "\n",
        "# Printing metrics\n",
        "print(\"Test Accuracy:\", accuracy)\n",
        "print(\"Test Precision:\", precision)\n",
        "print(\"Test Recall:\", recall)\n",
        "print(\"Test Loss:\", loss)\n",
        "print(\"Test AUC\", auc)\n",
        "\n",
        "print(classification_report(y_test, y_hat_test))\n",
        "print(\"Matthews Correlation Coefficient:\", matthews_corrcoef(y_test, y_hat_test))\n",
        "print()\n",
        "\n",
        "# Confusion matrix\n",
        "cm = confusion_matrix(y_test, y_hat_test)\n",
        "display = ConfusionMatrixDisplay(confusion_matrix = cm, display_labels = best_xgb.classes_)\n",
        "display.plot(cmap = \"Blues\")"
      ]
    },
    {
      "cell_type": "markdown",
      "metadata": {
        "id": "APuDDwx2xu51"
      },
      "source": [
        "From the above, the XGBoost model performs better than the Logistic Regression model in all metrics besides recall. Reasons explaining the inherently low precision will be covered in the report.\n",
        "\n",
        "From the confusion matrix, XGBoost predicted many true negatives (much more so than Logistic regression), but struggles to classify true positives."
      ]
    },
    {
      "cell_type": "markdown",
      "metadata": {
        "id": "xmcHeoKppFBO"
      },
      "source": [
        "# Saving the model\n",
        "\n",
        "Using `joblib`, the trained model with best parameters will be saved."
      ]
    },
    {
      "cell_type": "code",
      "execution_count": null,
      "metadata": {
        "colab": {
          "base_uri": "https://localhost:8080/"
        },
        "id": "aQ1kpTTopOEq",
        "outputId": "1310b4e2-2b10-4ab5-a4e7-cb5171b6fe0d"
      },
      "outputs": [
        {
          "name": "stderr",
          "output_type": "stream",
          "text": [
            "/usr/local/lib/python3.11/dist-packages/xgboost/core.py:158: UserWarning: [10:29:27] WARNING: /workspace/src/learner.cc:740: \n",
            "Parameters: { \"use_label_encoder\" } are not used.\n",
            "\n",
            "  warnings.warn(smsg, UserWarning)\n"
          ]
        },
        {
          "name": "stdout",
          "output_type": "stream",
          "text": [
            "Model saved!\n"
          ]
        }
      ],
      "source": [
        "# Best model\n",
        "best_xgb = XGBClassifier(\n",
        "    use_label_encoder = False,\n",
        "    eval_metric = \"aucpr\",\n",
        "    scale_pos_weight = 10,\n",
        "    objective = \"binary:logistic\",\n",
        "    tree_method = \"hist\",\n",
        "    booster = \"gbtree\",\n",
        "    # **random_search.best_params_ (best params located below)\n",
        "\n",
        "    subsample = 0.7,\n",
        "    reg_lambda = 50,\n",
        "    reg_alpha = 5,\n",
        "    n_estimators = 1500,\n",
        "    min_child_weight = 10,\n",
        "    max_depth = 6,\n",
        "    learning_rate = 0.01,\n",
        "    gamma = 3.0,\n",
        "    colsample_bytree = 0.6\n",
        "    )\n",
        "\n",
        "# Fitting model\n",
        "best_xgb.fit(X_resampled_ada, y_resampled_ada)\n",
        "\n",
        "# Saving the model\n",
        "joblib.dump(best_xgb, 'xgb.joblib')\n",
        "print(\"Model saved!\")"
      ]
    }
  ],
  "metadata": {
    "colab": {
      "provenance": []
    },
    "kernelspec": {
      "display_name": "Python 3",
      "name": "python3"
    },
    "language_info": {
      "name": "python"
    }
  },
  "nbformat": 4,
  "nbformat_minor": 0
}
