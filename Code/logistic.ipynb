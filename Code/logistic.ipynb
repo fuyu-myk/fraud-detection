{
  "cells": [
    {
      "cell_type": "markdown",
      "source": [
        "# Study showing Logistic Regression use for fraud detection\n",
        "\n",
        "Studies have been done prior that demonstrates how Logistic Regression can be used for fraud detection.\n",
        "\n",
        "Petrlik, I., Lezama, P., Rodriguez, C., Inquilla, R., Reyna-González, J. E., & Esparza, R. (2022). Electricity Theft Detection using Machine Learning. International Journal of Advanced Computer Science and Applications, 13(12).\n",
        "\n",
        "For effective learning, there ideally should be enough data from both classes, fraudulent and non-fraudulent. However, for energy consumption cases such as these, actual fraud cases are typically rare compared to normal cases, leading to severe class imbalance. The imbalance will cause more challenges in learning without data treatment techniques. As such, over-sampling the minority (fraudulent) class was done to address the imbalance.\n",
        "\n",
        "___"
      ],
      "metadata": {
        "id": "BTOzkowDnAnO"
      }
    },
    {
      "cell_type": "code",
      "execution_count": 1,
      "metadata": {
        "id": "hVYjDsk9TTYw"
      },
      "outputs": [],
      "source": [
        "# Importing libraries\n",
        "import numpy as np\n",
        "import pandas as pd\n",
        "import matplotlib.pyplot as plt\n",
        "from sklearn.model_selection import train_test_split\n",
        "from sklearn.preprocessing import StandardScaler\n",
        "from sklearn.utils import class_weight, resample\n",
        "from sklearn.metrics import classification_report, roc_auc_score, precision_recall_curve, precision_score, log_loss, recall_score, matthews_corrcoef, confusion_matrix, ConfusionMatrixDisplay\n",
        "from sklearn.linear_model import LogisticRegression\n",
        "from sklearn.model_selection import GridSearchCV, StratifiedKFold\n",
        "from imblearn.over_sampling import ADASYN\n",
        "import joblib"
      ]
    },
    {
      "cell_type": "code",
      "execution_count": 3,
      "metadata": {
        "colab": {
          "base_uri": "https://localhost:8080/"
        },
        "id": "ewxHkzdaA6Sb",
        "outputId": "b215b7cf-8736-46fc-ad97-354afa79561c"
      },
      "outputs": [
        {
          "output_type": "execute_result",
          "data": {
            "text/plain": [
              "Index(['region', 'date', 'dis', 'id', 'catg', 'target', 'id_',\n",
              "       'consommation_level_1_mean', 'consommation_level_1_max',\n",
              "       'consommation_level_1_std',\n",
              "       ...\n",
              "       'consommation_level_4_2010.0', 'consommation_level_4_2011.0',\n",
              "       'consommation_level_4_2012.0', 'consommation_level_4_2013.0',\n",
              "       'consommation_level_4_2014.0', 'consommation_level_4_2015.0',\n",
              "       'consommation_level_4_2016.0', 'consommation_level_4_2017.0',\n",
              "       'consommation_level_4_2018.0', 'consommation_level_4_2019.0'],\n",
              "      dtype='object', length=195)"
            ]
          },
          "metadata": {},
          "execution_count": 3
        }
      ],
      "source": [
        "# Loading aggregated dataset\n",
        "aggregated_invoice = pd.read_csv(\"aggregated_datasetV3.csv\")\n",
        "aggregated_invoice.columns"
      ]
    },
    {
      "cell_type": "markdown",
      "source": [
        "# Preparing data for Logistic Regression\n",
        "\n",
        "The dataset has to be split and the imbalanced data has to be handled as the number of fraud cases are underrepresented."
      ],
      "metadata": {
        "id": "W7DttfB-9fL4"
      }
    },
    {
      "cell_type": "markdown",
      "metadata": {
        "id": "NQeUL_AZtZ5j"
      },
      "source": [
        "# Splitting the dataset\n",
        "Using `sklearn`, the data is split into 80% training and 20% testing."
      ]
    },
    {
      "cell_type": "code",
      "execution_count": 4,
      "metadata": {
        "colab": {
          "base_uri": "https://localhost:8080/"
        },
        "id": "ORbkFqW6tZdd",
        "outputId": "a8436cda-a436-43d4-b9e7-780abf80a5d9"
      },
      "outputs": [
        {
          "output_type": "stream",
          "name": "stdout",
          "text": [
            "target\n",
            "0    0.956133\n",
            "1    0.043867\n",
            "Name: proportion, dtype: float64\n",
            "target\n",
            "0    0.956152\n",
            "1    0.043848\n",
            "Name: proportion, dtype: float64\n"
          ]
        }
      ],
      "source": [
        "# Separating features & target\n",
        "X = aggregated_invoice.drop(columns = [\"target\", \"date\", \"id\"])\n",
        "y = aggregated_invoice[\"target\"]\n",
        "\n",
        "# Splitting data\n",
        "X_train, X_test, y_train, y_test = train_test_split(X, y, test_size = 0.2, random_state = 42, stratify = y)\n",
        "\n",
        "# Check distribution of target\n",
        "print(y_train.value_counts(normalize = True)) # Training set\n",
        "print(y_test.value_counts(normalize = True)) # Testing set"
      ]
    },
    {
      "cell_type": "markdown",
      "source": [
        "# Standardisation of data\n",
        "\n",
        "For better model performance, standardisation will be carried out on both train and test splits separately."
      ],
      "metadata": {
        "id": "j2fUKmCWDx02"
      }
    },
    {
      "cell_type": "code",
      "source": [
        "X_train_standardised = StandardScaler().fit_transform(X_train.select_dtypes(include = [\"number\"]))\n",
        "X_test_standardised = StandardScaler().fit_transform(X_test.select_dtypes(include = [\"number\"]))"
      ],
      "metadata": {
        "id": "fgsyktogD-dv"
      },
      "execution_count": 5,
      "outputs": []
    },
    {
      "cell_type": "markdown",
      "source": [
        "# Balancing data\n",
        "\n",
        "Since the dataset is highly imbalanced (as seen by the proportions above), where only a small fraction of it constitutes data for fraud, ADASYN and SMOTE can be used to balance the disparity.\n",
        "\n",
        "With fraud data constituting a mere ~5% of the entire dataset, ADASYN was chosen to increase the number of fraud datapoints, allowing the model to learn more effectively."
      ],
      "metadata": {
        "id": "OPkQji70Tjaj"
      }
    },
    {
      "cell_type": "code",
      "source": [
        "# Generating synthetic data using ADASYN for the minority class\n",
        "ada = ADASYN(random_state = 42)\n",
        "X_resampled_ada, y_resampled_ada = ada.fit_resample(X_train_standardised, y_train)\n",
        "\n",
        "# Checking new class distribution\n",
        "print(pd.Series(y_resampled_ada).value_counts())"
      ],
      "metadata": {
        "colab": {
          "base_uri": "https://localhost:8080/"
        },
        "id": "0r8H2nCuTpNT",
        "outputId": "4e000b20-8c1a-4c6b-e284-6955b7a222d5"
      },
      "execution_count": 6,
      "outputs": [
        {
          "output_type": "stream",
          "name": "stdout",
          "text": [
            "target\n",
            "0    8980\n",
            "1    8887\n",
            "Name: count, dtype: int64\n"
          ]
        }
      ]
    },
    {
      "cell_type": "markdown",
      "source": [
        "# Logistic regression model without hyperparameter tuning\n",
        "\n",
        "Now that the data has been processed, it will be run through the Logistic Regression model. Below outlines the model architecture, without hyperparameter tuning."
      ],
      "metadata": {
        "id": "n6xb99n-d-Yj"
      }
    },
    {
      "cell_type": "code",
      "source": [
        "# Defining the model\n",
        "log_reg = LogisticRegression(max_iter = 1000, random_state = 42)\n",
        "\n",
        "# Fitting the model\n",
        "log_reg.fit(X_resampled_ada, y_resampled_ada)\n",
        "\n",
        "# Obtaining results\n",
        "result = log_reg.predict(X_test_standardised)\n",
        "\n",
        "# Model evaluation\n",
        "print(classification_report(y_test, result))"
      ],
      "metadata": {
        "colab": {
          "base_uri": "https://localhost:8080/"
        },
        "id": "Pd3V3f_Recs6",
        "outputId": "5f89a1b0-49c5-448e-95b4-73e7301c3c83"
      },
      "execution_count": null,
      "outputs": [
        {
          "output_type": "stream",
          "name": "stdout",
          "text": [
            "              precision    recall  f1-score   support\n",
            "\n",
            "           0       0.97      0.66      0.79      2246\n",
            "           1       0.07      0.53      0.12       103\n",
            "\n",
            "    accuracy                           0.66      2349\n",
            "   macro avg       0.52      0.60      0.45      2349\n",
            "weighted avg       0.93      0.66      0.76      2349\n",
            "\n"
          ]
        }
      ]
    },
    {
      "cell_type": "markdown",
      "metadata": {
        "id": "hbUYR5ijebXH"
      },
      "source": [
        "# Logistic Regression model with hyperparameter tuning\n",
        "\n",
        "To further improve on the above model, hyperparameter tuning will be conducted. Below outlines the model architecture, as well as hyperparameter tuning. (**~10min runtime**)"
      ]
    },
    {
      "cell_type": "code",
      "execution_count": null,
      "metadata": {
        "colab": {
          "base_uri": "https://localhost:8080/"
        },
        "id": "HorMMDz8e7h2",
        "outputId": "7a023a0b-854d-465e-e6cb-6cf029201a43"
      },
      "outputs": [
        {
          "output_type": "stream",
          "name": "stdout",
          "text": [
            "Fitting 5 folds for each of 10 candidates, totalling 50 fits\n",
            "Best parameters: {'C': 100, 'solver': 'liblinear'}\n"
          ]
        }
      ],
      "source": [
        "# Defining the model\n",
        "log_reg = LogisticRegression(max_iter = 1000, random_state = 42)\n",
        "\n",
        "# Defining the hyperparameter grid\n",
        "param_grid = {\n",
        "    \"C\": [0.01, 0.1, 1, 10, 100],\n",
        "    \"solver\": [\"liblinear\", \"lbfgs\"]\n",
        "}\n",
        "\n",
        "# Perform randomised search with stratified 5-fold\n",
        "cv = StratifiedKFold(n_splits = 5, shuffle = True, random_state = 42)\n",
        "grid_search = GridSearchCV(log_reg, param_grid, scoring = \"accuracy\", cv = cv, n_jobs = -1, verbose = 1)\n",
        "grid_search.fit(X_resampled_ada, y_resampled_ada)\n",
        "\n",
        "# Output best params\n",
        "print(\"Best parameters:\", grid_search.best_params_)"
      ]
    },
    {
      "cell_type": "markdown",
      "source": [
        "# Evaluation on Test Split\n",
        "\n",
        "Evaluation of the model is done based on the following metrics:\n",
        "1. Accuracy\n",
        "2. Precision\n",
        "3. Recall\n",
        "4. Loss\n",
        "5. Area under curve (AUC)\n",
        "6. Matthew's Correlation Coefficient (MCC)\n",
        "7. Confusion matrix"
      ],
      "metadata": {
        "id": "YNjbbJU0nhCm"
      }
    },
    {
      "cell_type": "code",
      "source": [
        "# Best model\n",
        "# best_log_reg = LogisticRegression(max_iter = 1000, **grid_search.best_params_, random_state = 42)\n",
        "best_log_reg = LogisticRegression(max_iter = 1000, solver = \"liblinear\", C = 100, random_state = 42)\n",
        "\n",
        "# Fitting model\n",
        "best_log_reg.fit(X_resampled_ada, y_resampled_ada)\n",
        "\n",
        "# Testing best model\n",
        "y_hat_test = best_log_reg.predict(X_test_standardised)\n",
        "\n",
        "# Calculating metrics\n",
        "accuracy = best_log_reg.score(X_test_standardised, y_test)\n",
        "precision = precision_score(y_test, y_hat_test)\n",
        "recall = recall_score(y_test, y_hat_test)\n",
        "loss = log_loss(y_test, y_hat_test)\n",
        "auc = roc_auc_score(y_test, y_hat_test)\n",
        "\n",
        "# Printing metrics\n",
        "print(\"Test Accuracy:\", accuracy)\n",
        "print(\"Test Precision:\", precision)\n",
        "print(\"Test Recall:\", recall)\n",
        "print(\"Test Loss:\", loss)\n",
        "print(\"Test AUC:\", auc)\n",
        "\n",
        "print(classification_report(y_test, y_hat_test))\n",
        "print(\"Matthew's Correlation Coefficient:\", matthews_corrcoef(y_test, y_hat_test))\n",
        "print()\n",
        "\n",
        "# Confusion matrix\n",
        "cm = confusion_matrix(y_test, y_hat_test)\n",
        "display = ConfusionMatrixDisplay(confusion_matrix = cm, display_labels = best_log_reg.classes_)\n",
        "display.plot(cmap = \"Blues\")"
      ],
      "metadata": {
        "colab": {
          "base_uri": "https://localhost:8080/",
          "height": 753
        },
        "id": "6COyPp3JniLZ",
        "outputId": "2a2a480f-e117-44f5-818c-3403e4b2912a"
      },
      "execution_count": null,
      "outputs": [
        {
          "output_type": "stream",
          "name": "stdout",
          "text": [
            "Test Accuracy: 0.5036185610898255\n",
            "Test Precision: 0.06255144032921811\n",
            "Test Recall: 0.7378640776699029\n",
            "Test Loss: 17.89140053286956\n",
            "Test AUC: 0.6153701510344172\n",
            "              precision    recall  f1-score   support\n",
            "\n",
            "           0       0.98      0.49      0.66      2246\n",
            "           1       0.06      0.74      0.12       103\n",
            "\n",
            "    accuracy                           0.50      2349\n",
            "   macro avg       0.52      0.62      0.39      2349\n",
            "weighted avg       0.94      0.50      0.63      2349\n",
            "\n",
            "Matthew's Correlation Coefficient: 0.09454798527985579\n",
            "\n"
          ]
        },
        {
          "output_type": "execute_result",
          "data": {
            "text/plain": [
              "<sklearn.metrics._plot.confusion_matrix.ConfusionMatrixDisplay at 0x7f16b24f7f90>"
            ]
          },
          "metadata": {},
          "execution_count": 8
        },
        {
          "output_type": "display_data",
          "data": {
            "text/plain": [
              "<Figure size 640x480 with 2 Axes>"
            ],
            "image/png": "[encoded data removed]"
          },
          "metadata": {}
        }
      ]
    },
    {
      "cell_type": "markdown",
      "source": [
        "From the above, the Logistic Regression model performs worse than the XGBoost model in all metrics except recall. Thus, this model, due to it's inherent simplicity, may not be suitable to classify fraud for this dataset.\n",
        "\n",
        "Form the confusion matrix, Logistic Regression was able to predict many true negatives and true positives. However, it also wrongly classifed many negatives as positives (False positive). This thereby makes it the least desirable of the three models."
      ],
      "metadata": {
        "id": "FC5hk6JHyPN5"
      }
    },
    {
      "cell_type": "markdown",
      "source": [
        "# Saving the model\n",
        "\n",
        "Using `joblib`, the trained model with best parameters will be saved."
      ],
      "metadata": {
        "id": "L6hwl0jInLxr"
      }
    },
    {
      "cell_type": "code",
      "source": [
        "# Best model\n",
        "best_log_reg = LogisticRegression(max_iter = 1000, solver = \"liblinear\", C = 100, random_state = 42)\n",
        "\n",
        "# Fitting model\n",
        "best_log_reg.fit(X_resampled_ada, y_resampled_ada)\n",
        "\n",
        "# Saving the model\n",
        "joblib.dump(best_log_reg, 'logistic.joblib')\n",
        "print(\"Model saved!\")"
      ],
      "metadata": {
        "colab": {
          "base_uri": "https://localhost:8080/"
        },
        "id": "h4IP-r-Tne1j",
        "outputId": "07368606-5a59-4275-cbb7-4360f2beef6b"
      },
      "execution_count": 8,
      "outputs": [
        {
          "output_type": "stream",
          "name": "stdout",
          "text": [
            "Model saved!\n"
          ]
        }
      ]
    }
  ],
  "metadata": {
    "colab": {
      "provenance": []
    },
    "kernelspec": {
      "display_name": "Python 3",
      "name": "python3"
    },
    "language_info": {
      "name": "python"
    }
  },
  "nbformat": 4,
  "nbformat_minor": 0
}