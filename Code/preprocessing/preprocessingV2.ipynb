{
  "cells": [
    {
      "cell_type": "code",
      "execution_count": null,
      "metadata": {
        "id": "CgTDDGCNSZi2"
      },
      "outputs": [],
      "source": [
        "# Importing Libraries\n",
        "import pandas as pd\n",
        "import numpy as np\n",
        "import matplotlib.pyplot as plt\n",
        "import seaborn as sns"
      ]
    },
    {
      "cell_type": "code",
      "execution_count": null,
      "metadata": {
        "id": "7-ZLiUBLTj8J"
      },
      "outputs": [],
      "source": [
        "# Loading the datasets\n",
        "client_path = \"client.csv\"\n",
        "invoice_path = \"invoice.csv\"\n",
        "\n",
        "client_df = pd.read_csv(client_path)\n",
        "invoice_df = pd.read_csv(invoice_path)"
      ]
    },
    {
      "cell_type": "markdown",
      "metadata": {
        "id": "ebGvC0qRUUQX"
      },
      "source": [
        "# Data preprocessing and aggregation workflow\n",
        "Since we're planning to prepare data for a long-short term memory (LSTM) fraud detection model, transactions from `\"invoice.csv\"` will be grouped by client and month to form a time series. The goal will be to create a singular record per client per month with the relevant aggregated statistics.\n",
        "\n",
        "\n",
        "The steps to do so are as follows:\n",
        "\n",
        "1. Obtaining an overview of the data\n",
        "2. Converting dates to datetime format - as the `date` columns are inconsistent\n",
        "3. Aggregate monthly consumption and features - for each client, compute as follows:\n",
        "  *   Consumption patterns\n",
        "  *   Counter behaviour\n",
        "  *   Temporal patterns\n",
        "4. Undersampling non-fradulent data\n",
        "5. Preparing data for LSTM\n",
        "\n",
        "\n"
      ]
    },
    {
      "cell_type": "markdown",
      "metadata": {
        "id": "9CWkrCR0UdAr"
      },
      "source": [
        "# Obtaining an overview of the data\n",
        "\n",
        "Here, the `.info()` method will be used to ascertain if there are any missing datapoints."
      ]
    },
    {
      "cell_type": "code",
      "execution_count": null,
      "metadata": {
        "colab": {
          "base_uri": "https://localhost:8080/"
        },
        "id": "y5vpw6OjUZsS",
        "outputId": "9263f61f-9ae4-456a-9c13-39b6dc26de66"
      },
      "outputs": [
        {
          "name": "stdout",
          "output_type": "stream",
          "text": [
            "Length of client_df: 11741 \n",
            "\n",
            "<class 'pandas.core.frame.DataFrame'>\n",
            "RangeIndex: 11741 entries, 0 to 11740\n",
            "Data columns (total 6 columns):\n",
            " #   Column  Non-Null Count  Dtype \n",
            "---  ------  --------------  ----- \n",
            " 0   region  11741 non-null  int64 \n",
            " 1   date    11741 non-null  object\n",
            " 2   dis     11741 non-null  int64 \n",
            " 3   id      11741 non-null  int64 \n",
            " 4   catg    11741 non-null  int64 \n",
            " 5   target  11741 non-null  int64 \n",
            "dtypes: int64(5), object(1)\n",
            "memory usage: 550.5+ KB\n"
          ]
        }
      ],
      "source": [
        "# Displaying basic info of client_df\n",
        "print(f\"Length of client_df: {len(client_df)} \\n\")\n",
        "client_df.info()"
      ]
    },
    {
      "cell_type": "markdown",
      "metadata": {
        "id": "snD6_PwnUpUD"
      },
      "source": [
        "From the above summary, there are no missing datapoints, nor any null datapoints for `client_df`."
      ]
    },
    {
      "cell_type": "code",
      "execution_count": null,
      "metadata": {
        "colab": {
          "base_uri": "https://localhost:8080/"
        },
        "id": "tgOyZwvmUiMR",
        "outputId": "a32a78e7-09ed-4457-93b8-3eab14bee842"
      },
      "outputs": [
        {
          "name": "stdout",
          "output_type": "stream",
          "text": [
            "Length of invoice_df: 194374 \n",
            "\n",
            "<class 'pandas.core.frame.DataFrame'>\n",
            "RangeIndex: 194374 entries, 0 to 194373\n",
            "Data columns (total 12 columns):\n",
            " #   Column                Non-Null Count   Dtype \n",
            "---  ------                --------------   ----- \n",
            " 0   id                    194374 non-null  int64 \n",
            " 1   date                  194374 non-null  object\n",
            " 2   tarif_type            194374 non-null  int64 \n",
            " 3   counter_statue        194374 non-null  int64 \n",
            " 4   reading_remarque      194374 non-null  int64 \n",
            " 5   consommation_level_4  194374 non-null  int64 \n",
            " 6   months_number         194374 non-null  int64 \n",
            " 7   counter_type          194374 non-null  object\n",
            " 8   counter_coefficient   194374 non-null  int64 \n",
            " 9   consommation_level_1  194374 non-null  int64 \n",
            " 10  consommation_level_2  194374 non-null  int64 \n",
            " 11  consommation_level_3  194374 non-null  int64 \n",
            "dtypes: int64(10), object(2)\n",
            "memory usage: 17.8+ MB\n"
          ]
        }
      ],
      "source": [
        "# Displaying basic info of invoice_df\n",
        "print(f\"Length of invoice_df: {len(invoice_df)} \\n\")\n",
        "invoice_df.info()"
      ]
    },
    {
      "cell_type": "markdown",
      "metadata": {
        "id": "Htagq9s4Urbf"
      },
      "source": [
        "Similarly, the above summary reveals no missing datapoints, nor any null datapoints for `invoice_df`."
      ]
    },
    {
      "cell_type": "markdown",
      "metadata": {
        "id": "jJZSGACOUwwF"
      },
      "source": [
        "# Converting dates to datetime format\n",
        "\n",
        "The rationale for doing this conversion is to ensure the consistency of all dates under the `dates` column."
      ]
    },
    {
      "cell_type": "code",
      "execution_count": null,
      "metadata": {
        "id": "eMExWkLkUz5D"
      },
      "outputs": [],
      "source": [
        "# Converting dates to datetime format\n",
        "invoice_df[\"date\"] = pd.to_datetime(invoice_df[\"date\"], errors = \"coerce\", dayfirst = True)\n",
        "invoice_df[\"year_month\"] = invoice_df[\"date\"].dt.to_period(\"M\")"
      ]
    },
    {
      "cell_type": "markdown",
      "metadata": {
        "id": "6moaF08VU5AF"
      },
      "source": [
        "# Aggregating monthly consumption and features\n",
        "\n",
        "The following will be computed for each client and month:\n",
        "\n",
        "1.   Consumption-based features\n",
        "\n",
        "  *   total_consumption - Total energy usage\n",
        "  *   avg_monthly_consumption - Average energy usage per month\n",
        "  *   consumption_std - Standard deviation (volatility) in energy consumption\n",
        "  *   consumption_change_rate - Rate of change in usage\n",
        "\n",
        "2.   Invoice and time patterns\n",
        "\n",
        "  *   months_since_last_invoice - Difference between invoice dates to capture gaps\n",
        "  *   monthly_invoice_count - Number of invoices issued that month\n",
        "\n",
        "3.   Fraud indicator\n",
        "\n",
        "  *   target - Fraud label from `client.csv`"
      ]
    },
    {
      "cell_type": "code",
      "execution_count": null,
      "metadata": {
        "colab": {
          "base_uri": "https://localhost:8080/"
        },
        "id": "soZS0rxtU8Kt",
        "outputId": "6cdd979b-6f4e-4b76-aee9-c6eaf4be91ca"
      },
      "outputs": [
        {
          "name": "stdout",
          "output_type": "stream",
          "text": [
            "   id year_month  total_consumption  avg_monthly_consumption  consumption_std  \\\n",
            "0  10    2006-06                931                    931.0              NaN   \n",
            "1  10    2007-06               1355                   1355.0              NaN   \n",
            "2  10    2007-10                476                    476.0              NaN   \n",
            "3  10    2008-02                761                    761.0              NaN   \n",
            "4  10    2008-06                475                    475.0              NaN   \n",
            "\n",
            "   consumption_change_rate  months_since_last_invoice  monthly_invoice_count  \\\n",
            "0                 0.000000                        NaN                      1   \n",
            "1                 0.455424                       12.0                      1   \n",
            "2                -0.648708                        4.0                      1   \n",
            "3                 0.598739                        4.0                      1   \n",
            "4                -0.375821                        4.0                      1   \n",
            "\n",
            "   target  \n",
            "0       0  \n",
            "1       0  \n",
            "2       0  \n",
            "3       0  \n",
            "4       0  \n"
          ]
        }
      ],
      "source": [
        "# Computing total consumption per invoice\n",
        "invoice_df[\"total consumption\"] = (\n",
        "    invoice_df[\"consommation_level_1\"] +\n",
        "    invoice_df[\"consommation_level_2\"] +\n",
        "    invoice_df[\"consommation_level_3\"] +\n",
        "    invoice_df[\"consommation_level_4\"]\n",
        ")\n",
        "\n",
        "# Sorting data for lag-based calculations\n",
        "invoice_df = invoice_df.sort_values(by = [\"id\", \"date\"])\n",
        "\n",
        "# Computing consumption change rate\n",
        "invoice_df[\"previous consumption\"] = invoice_df.groupby(\"id\")[\"total consumption\"].shift(1)\n",
        "invoice_df[\"consumption_change_rate\"] = (\n",
        "    (invoice_df[\"total consumption\"] - invoice_df[\"previous consumption\"]) /\n",
        "    invoice_df[\"previous consumption\"]\n",
        ")\n",
        "\n",
        "# Handling NaN values in consumption_change_rate if previous_consumption is 0 or missing\n",
        "invoice_df.loc[\n",
        "    invoice_df[\"previous consumption\"].isna() | (invoice_df[\"previous consumption\"] == 0),\n",
        "    \"consumption_change_rate\"\n",
        "] = 0\n",
        "\n",
        "# Computing months since last invoice\n",
        "invoice_df[\"previous_invoice_date\"] = invoice_df.groupby(\"id\")[\"date\"].shift(1)\n",
        "invoice_df[\"months_since_last_invoice\"] = (invoice_df[\"date\"] - invoice_df[\"previous_invoice_date\"]).dt.days // 30\n",
        "\n",
        "# Grouping by client and month for feature aggregation\n",
        "aggregated_invoice = invoice_df.groupby([\"id\", \"year_month\"]).agg(\n",
        "    total_consumption = (\"total consumption\", \"sum\"),\n",
        "    avg_monthly_consumption = (\"total consumption\", \"mean\"),\n",
        "    consumption_std = (\"total consumption\", \"std\"),\n",
        "    consumption_change_rate = (\"consumption_change_rate\", \"mean\"),\n",
        "    months_since_last_invoice = (\"months_since_last_invoice\", \"mean\"),\n",
        "    monthly_invoice_count = (\"id\", \"count\"),\n",
        ").reset_index()\n",
        "\n",
        "# Merging fraud labels from client_df\n",
        "aggregated_invoice = aggregated_invoice.merge(client_df[[\"id\", \"target\"]], on = \"id\", how = \"left\")\n",
        "\n",
        "\n",
        "print(aggregated_invoice.head())"
      ]
    },
    {
      "cell_type": "markdown",
      "metadata": {
        "id": "SPbRxYPUVAvb"
      },
      "source": [
        "To handle the `NaN` values arising from only one data sample in a month and the inability to calculate `consumption_change_rate` and `months_since_last_invoice` for the first row of data, we will change these values to 0."
      ]
    },
    {
      "cell_type": "code",
      "execution_count": null,
      "metadata": {
        "colab": {
          "base_uri": "https://localhost:8080/"
        },
        "id": "bBsB9tcTVDSN",
        "outputId": "2649e3e2-368f-4103-9de0-f4b41ab8e625"
      },
      "outputs": [
        {
          "name": "stdout",
          "output_type": "stream",
          "text": [
            "   id year_month  total_consumption  avg_monthly_consumption  consumption_std  \\\n",
            "0  10    2006-06                931                    931.0              0.0   \n",
            "1  10    2007-06               1355                   1355.0              0.0   \n",
            "2  10    2007-10                476                    476.0              0.0   \n",
            "3  10    2008-02                761                    761.0              0.0   \n",
            "4  10    2008-06                475                    475.0              0.0   \n",
            "\n",
            "   consumption_change_rate  months_since_last_invoice  monthly_invoice_count  \\\n",
            "0                 0.000000                        0.0                      1   \n",
            "1                 0.455424                       12.0                      1   \n",
            "2                -0.648708                        4.0                      1   \n",
            "3                 0.598739                        4.0                      1   \n",
            "4                -0.375821                        4.0                      1   \n",
            "\n",
            "   target  \n",
            "0       0  \n",
            "1       0  \n",
            "2       0  \n",
            "3       0  \n",
            "4       0  \n"
          ]
        }
      ],
      "source": [
        "# For clients with only one invoice per month\n",
        "aggregated_invoice[\"consumption_std\"] = aggregated_invoice.apply(\n",
        "    lambda row: 0 if row[\"monthly_invoice_count\"] == 1 else row[\"consumption_std\"],\n",
        "    axis = 1\n",
        ")\n",
        "\n",
        "# Filling initial values for first row of consumption change and months since last invoice\n",
        "aggregated_invoice[\"months_since_last_invoice\"] = aggregated_invoice[\"months_since_last_invoice\"].fillna(0)\n",
        "\n",
        "\n",
        "print(aggregated_invoice.head())"
      ]
    },
    {
      "cell_type": "markdown",
      "metadata": {
        "id": "_Cxp835kVHV2"
      },
      "source": [
        "To prepare for LSTM input, the data must be sorted by client (`id`) and time (`year_month`)."
      ]
    },
    {
      "cell_type": "code",
      "execution_count": null,
      "metadata": {
        "colab": {
          "base_uri": "https://localhost:8080/"
        },
        "id": "_uuMuOxTVJTr",
        "outputId": "56021658-54b2-492c-80c7-25450e9c65b9"
      },
      "outputs": [
        {
          "name": "stdout",
          "output_type": "stream",
          "text": [
            "   id year_month  total_consumption  avg_monthly_consumption  consumption_std  \\\n",
            "0  10    2006-06                931                    931.0              0.0   \n",
            "1  10    2007-06               1355                   1355.0              0.0   \n",
            "2  10    2007-10                476                    476.0              0.0   \n",
            "3  10    2008-02                761                    761.0              0.0   \n",
            "4  10    2008-06                475                    475.0              0.0   \n",
            "\n",
            "   consumption_change_rate  months_since_last_invoice  monthly_invoice_count  \\\n",
            "0                 0.000000                        0.0                      1   \n",
            "1                 0.455424                       12.0                      1   \n",
            "2                -0.648708                        4.0                      1   \n",
            "3                 0.598739                        4.0                      1   \n",
            "4                -0.375821                        4.0                      1   \n",
            "\n",
            "   target  \n",
            "0       0  \n",
            "1       0  \n",
            "2       0  \n",
            "3       0  \n",
            "4       0  \n"
          ]
        }
      ],
      "source": [
        "# Sorting by client and time\n",
        "aggregated_invoice = aggregated_invoice.sort_values(by = [\"id\", \"year_month\"])\n",
        "\n",
        "\n",
        "# Display final processed data\n",
        "print(aggregated_invoice.head())"
      ]
    },
    {
      "cell_type": "code",
      "execution_count": null,
      "metadata": {
        "colab": {
          "base_uri": "https://localhost:8080/"
        },
        "id": "mVG0iQiNVM9K",
        "outputId": "a57b7ca2-2d2d-4cc1-88a3-f5f8b8f2b4e1"
      },
      "outputs": [
        {
          "name": "stdout",
          "output_type": "stream",
          "text": [
            "Dataset saved!\n"
          ]
        }
      ],
      "source": [
        "# Saving file into a new dataset\n",
        "aggregated_invoice.to_csv(\"aggregated_datasetV2.csv\", index = False)\n",
        "print(\"Dataset saved!\")"
      ]
    },
    {
      "cell_type": "markdown",
      "metadata": {
        "id": "heaSy0PNV75L"
      },
      "source": [
        "# Imbalance Visualisation\n",
        "By separating and counting the values of fraud and non-fraud cases, it's clear to see that there is a heavy imabalance between the two classes. This suggests that measures will need to be taken to counter this."
      ]
    },
    {
      "cell_type": "code",
      "execution_count": null,
      "metadata": {
        "colab": {
          "base_uri": "https://localhost:8080/",
          "height": 673
        },
        "id": "MoxI6KzJV_dB",
        "outputId": "2dd369d8-42bf-4103-ef3a-bbf34338c223"
      },
      "outputs": [
        {
          "name": "stderr",
          "output_type": "stream",
          "text": [
            "<ipython-input-13-ec1eca881209>:2: FutureWarning: \n",
            "\n",
            "Passing `palette` without assigning `hue` is deprecated and will be removed in v0.14.0. Assign the `x` variable to `hue` and set `legend=False` for the same effect.\n",
            "\n",
            "  sns.countplot(x=\"target\", data=aggregated_invoice, palette=\"viridis\")\n"
          ]
        },
        {
          "data": {
            "image/png": "[encoded data removed]",
            "text/plain": [
              "<Figure size 800x600 with 1 Axes>"
            ]
          },
          "metadata": {},
          "output_type": "display_data"
        }
      ],
      "source": [
        "plt.figure(figsize=(8, 6))\n",
        "sns.countplot(x=\"target\", data=aggregated_invoice, palette=\"viridis\")\n",
        "plt.title(\"Distribution of Target Classes\")\n",
        "plt.xlabel(\"Target (0 = non-fraud, 1 = fraud)\")\n",
        "plt.ylabel(\"Count\")\n",
        "plt.show()"
      ]
    },
    {
      "cell_type": "markdown",
      "metadata": {
        "id": "EERtIX6oWOk5"
      },
      "source": [
        "# Dataset correlation heatmap\n",
        "\n",
        "A correlation heatmap was generated for the saved dataset to display the correlation between features. This was done after training and testing the LSTM model, in an effort to ascertain the reason of the low precision of both models."
      ]
    },
    {
      "cell_type": "code",
      "execution_count": null,
      "metadata": {
        "colab": {
          "base_uri": "https://localhost:8080/"
        },
        "id": "bLEqN6E9WTk4",
        "outputId": "078e66e8-6b1c-48a6-d216-42190e4c5252"
      },
      "outputs": [
        {
          "data": {
            "text/plain": [
              "Index(['id', 'year_month', 'total_consumption', 'avg_monthly_consumption',\n",
              "       'consumption_std', 'consumption_change_rate',\n",
              "       'months_since_last_invoice', 'monthly_invoice_count', 'target'],\n",
              "      dtype='object')"
            ]
          },
          "execution_count": 14,
          "metadata": {},
          "output_type": "execute_result"
        }
      ],
      "source": [
        "# Loading aggregated dataset\n",
        "aggregated_invoice = pd.read_csv(\"aggregated_datasetV2.csv\")\n",
        "aggregated_invoice.columns"
      ]
    },
    {
      "cell_type": "code",
      "execution_count": null,
      "metadata": {
        "colab": {
          "base_uri": "https://localhost:8080/",
          "height": 871
        },
        "id": "4J-_k6X5Wfp9",
        "outputId": "868d9ea4-ba0e-4af7-8e6e-4e8b6513eb3b"
      },
      "outputs": [
        {
          "data": {
            "image/png": "[encoded data removed]",
            "text/plain": [
              "<Figure size 1200x800 with 2 Axes>"
            ]
          },
          "metadata": {},
          "output_type": "display_data"
        }
      ],
      "source": [
        "# Compute correlation matrix\n",
        "numeric_invoice = aggregated_invoice.drop(columns =['year_month', 'id'])\n",
        "corr_matrix = numeric_invoice.corr()\n",
        "\n",
        "# Plot heatmap\n",
        "plt.figure(figsize=(12, 8))\n",
        "sns.heatmap(corr_matrix, annot=False, cmap=\"coolwarm\", fmt=\".2f\", linewidths=0.5)\n",
        "plt.title(\"Feature Correlation Heatmap\")\n",
        "plt.show()"
      ]
    },
    {
      "cell_type": "markdown",
      "metadata": {
        "id": "NV2egvw_Wzlq"
      },
      "source": [
        "As seen from the above, there is weak correlation between the target category and all other categories (besides itself). Hence, this may be why the model struggles to classify fraud, explaining the low precision."
      ]
    }
  ],
  "metadata": {
    "colab": {
      "provenance": []
    },
    "kernelspec": {
      "display_name": "Python 3",
      "name": "python3"
    },
    "language_info": {
      "name": "python"
    }
  },
  "nbformat": 4,
  "nbformat_minor": 0
}
